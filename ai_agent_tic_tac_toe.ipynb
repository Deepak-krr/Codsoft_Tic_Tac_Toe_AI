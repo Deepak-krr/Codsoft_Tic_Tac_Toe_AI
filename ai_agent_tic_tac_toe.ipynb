{
  "metadata": {
    "colab": {
      "provenance": []
    },
    "kernelspec": {
      "name": "python3",
      "display_name": "Python 3"
    },
    "language_info": {
      "name": "python"
    }
  },
  "nbformat_minor": 0,
  "nbformat": 4,
  "cells": [
    {
      "cell_type": "markdown",
      "source": [
        "# Tic Tac Toe using EasyAI\n",
        "\n"
      ],
      "metadata": {
        "id": "J_brIjPwMoxj"
      }
    },
    {
      "cell_type": "markdown",
      "source": [
        "To start, we install easyAI in the environment using pip."
      ],
      "metadata": {
        "id": "Yq0YFvsKMvlT"
      }
    },
    {
      "cell_type": "code",
      "source": [
        "# installing easyAI\n",
        "!pip install easyAI"
      ],
      "metadata": {
        "colab": {
          "base_uri": "https://localhost:8080/"
        },
        "id": "XN2ckKH11jQm",
        "outputId": "5a3c8698-cd45-4089-e85c-053dc0b0feca"
      },
      "execution_count": 1,
      "outputs": [
        {
          "output_type": "stream",
          "name": "stdout",
          "text": [
            "Collecting easyAI\n",
            "  Downloading easyAI-2.0.12-py3-none-any.whl (42 kB)\n",
            "\u001b[?25l     \u001b[90m━━━━━━━━━━━━━━━━━━━━━━━━━━━━━━━━━━━━━━━━\u001b[0m \u001b[32m0.0/42.2 kB\u001b[0m \u001b[31m?\u001b[0m eta \u001b[36m-:--:--\u001b[0m\r\u001b[2K     \u001b[90m━━━━━━━━━━━━━━━━━━━━━━━━━━━━━━━━━━━━━━━━\u001b[0m \u001b[32m42.2/42.2 kB\u001b[0m \u001b[31m1.9 MB/s\u001b[0m eta \u001b[36m0:00:00\u001b[0m\n",
            "\u001b[?25hRequirement already satisfied: numpy in /usr/local/lib/python3.10/dist-packages (from easyAI) (1.23.5)\n",
            "Installing collected packages: easyAI\n",
            "Successfully installed easyAI-2.0.12\n"
          ]
        }
      ]
    },
    {
      "cell_type": "markdown",
      "source": [
        "Next, we import the required classes and functions:\n",
        "- TwoPlayerGame: class in the EasyAI library that provides a basic framework for creating two-player games.\n",
        "- Human_Player: class in the EasyAI library that represents a human player. It prompts the user to enter moves from the console (this player always loses :'(\n",
        "- AI_Player: class in the EasyAI library that represents an AI player. It takes a game instance and a search algorithm as input, and uses the algorithm to select the best move (this player always wins :)\n",
        "- solve_with_iterative_deepening: function in the EasyAI library that uses iterative deepening search to find the best move for a given game instance and AI player. It takes as input a game instance, an AI player, and a maximum search depth, and returns the best move.\n",
        "- solve_with_depth_first_search: function in the EasyAI library that uses depth-first search to find the best move for a given game instance and AI player. It takes as input a game instance, an AI player, and a maximum search depth, and returns the best move.\n",
        "- Negamax: class in the EasyAI library that implements the Negamax algorithm for game-playing AI. It takes as input a game instance and a maximum search depth, and returns the best move."
      ],
      "metadata": {
        "id": "q4CDvwItMzYz"
      }
    },
    {
      "cell_type": "code",
      "source": [
        "# importing the required classes and functions\n",
        "from easyAI import TwoPlayerGame, Human_Player, AI_Player, solve_with_iterative_deepening, solve_with_depth_first_search\n",
        "from easyAI.AI import Negamax"
      ],
      "metadata": {
        "id": "SA7_FXCh4zZv"
      },
      "execution_count": 2,
      "outputs": []
    },
    {
      "cell_type": "markdown",
      "source": [
        "Next, we declare the specifications of the game by making a class TicTacToe and defining the following functions:\n",
        "- __ init __: initializes the TicTacToe game with a board of the specified size (default is 3x3). It also sets up the players and their marks (X or O).\n",
        "- possible_moves:  returns a list of all possible moves that can be made on the current board state. Each move is represented as a tuple of (x, y) coordinates.\n",
        "- make_move: makes the specified move on the board for the specified player (X or O).\n",
        "- unmake_move: function undoes the specified move on the board. (used only by AI)\n",
        "- lose: specifies if the current user has lost or not by checking for all possible configurations on the board\n",
        "- is_over: returns True if the game is over (either because someone has won or the game is a draw), or False otherwise.\n",
        "- show: prints the current state of the board to the console.\n",
        "- scoring: calculates and returns the score of the current board state, based on the current player. The score is a value between -100 (loss) and 100 (win)."
      ],
      "metadata": {
        "id": "t_QS5pmoPjUM"
      }
    },
    {
      "cell_type": "code",
      "source": [
        "# declaring the specifications of the game\n",
        "class TicTacToe(TwoPlayerGame):\n",
        "    \"\"\"The board positions are numbered as follows:\n",
        "    1 2 3\n",
        "    4 5 6\n",
        "    7 8 9\n",
        "    \"\"\"\n",
        "\n",
        "    def __init__(self, players=None):\n",
        "        self.players = players\n",
        "        self.board = [0 for i in range(9)]\n",
        "        self.current_player = 1\n",
        "\n",
        "    def possible_moves(self):\n",
        "        return [i + 1 for i, e in enumerate(self.board) if e == 0]\n",
        "\n",
        "    def make_move(self, move):\n",
        "        self.board[int(move) - 1] = self.current_player\n",
        "\n",
        "    def unmake_move(self, move):  # optional method (speeds up the AI)\n",
        "        self.board[int(move) - 1] = 0\n",
        "\n",
        "    def lose(self):\n",
        "        \"\"\" Has the opponent \"three in line ?\" \"\"\"\n",
        "        return any(\n",
        "            [\n",
        "                all([(self.board[c - 1] == self.opponent_index) for c in line])\n",
        "                for line in [\n",
        "                    [1, 2, 3],\n",
        "                    [4, 5, 6],\n",
        "                    [7, 8, 9],  # horiz.\n",
        "                    [1, 4, 7],\n",
        "                    [2, 5, 8],\n",
        "                    [3, 6, 9],  # vertical\n",
        "                    [1, 5, 9],\n",
        "                    [3, 5, 7],\n",
        "                ]\n",
        "            ]\n",
        "        )  # diagonal\n",
        "\n",
        "    def is_over(self):\n",
        "        return (self.possible_moves() == []) or self.lose()\n",
        "\n",
        "    def show(self):\n",
        "        print(\n",
        "            \"\\n\"\n",
        "            + \"\\n\".join(\n",
        "                [\n",
        "                    \" \".join([[\".\", \"O\", \"X\"][self.board[3 * j + i]] for i in range(3)])\n",
        "                    for j in range(3)\n",
        "                ]\n",
        "            )\n",
        "        )\n",
        "\n",
        "    def scoring(self):\n",
        "        return -100 if self.lose() else 0"
      ],
      "metadata": {
        "id": "aysCeXbO6Xtr"
      },
      "execution_count": 3,
      "outputs": []
    },
    {
      "cell_type": "markdown",
      "source": [
        "The main function defined solves the game as per the algorithm specified:\n",
        "-  Iterative Deepening: it explores the game by using several times the Negamax algorithm, always starting at the initial state of the game, but taking increasing depth (in the list ai_depths) until the score of the initial condition indicates that the first player will certainly win or loose, at which case it stops,\n",
        "- Depth First Search: solves a game using a depth-first search (therefore it cannot be used for games that can have an infinite number of moves). The game is explored until endgames are reached and these endgames are evaluated to see if their are victories or defeats (or draws). Then, a situation in which every move leads to a defeat is labelled as a (certain) defeat, and a situation in which one move leads to a (certain) defeat of the opponent is labelled as a (certain) victory. This way we come back up to the root (initial condition) which receives a label, which is returned.\n",
        "- In negamax, the player whose turn it is to move assigns a value to each possible move based on the outcome of the game assuming optimal play by both players. This is done by recursively exploring the game tree, generating all possible moves and evaluating the resulting positions. The value assigned to each move is the negative of the value assigned by the opponent for their best move, hence the name \"negamax\". By negating the opponent's score, the algorithm takes into account the fact that the opponent is trying to minimize the player's score. The algorithm continues to explore the game tree until it reaches a terminal state, at which point it assigns a score to the position based on whether the player won, lost, or drew the game. The move with the highest score is then chosen as the best move.\n",
        "\n",
        "We use the Negamax algorithm to create a brain for the agent. This way, it can think of all possible solutions upto 9 levels deep and play the move accordingly to maximize its score.\n",
        "\n",
        "We then solve the games using Iterative Deepening and Depth First Search. Solving gives us a glimpse of what could be the potential outcome of a game, how many moves would the game last, and what would be the optimal first move by the first player."
      ],
      "metadata": {
        "id": "PHHA_VjDSpiv"
      }
    },
    {
      "cell_type": "code",
      "source": [
        "# solving the game using specified searching approaches\n",
        "def main(algo):\n",
        "  ai = Negamax(9)\n",
        "  if algo == 'id':\n",
        "      result = solve_with_iterative_deepening(game=TicTacToe(players=[AI_Player(ai), Human_Player()]), ai_depths=range(2, 10), win_score=100)\n",
        "  elif algo == 'dfs':\n",
        "      result = solve_with_depth_first_search(game=TicTacToe(players=[AI_Player(ai), Human_Player()]), win_score=100)\n",
        "  else:\n",
        "      print(\"Invalid algorithm.\")\n",
        "  return result"
      ],
      "metadata": {
        "id": "7oWRvq_e8kGQ"
      },
      "execution_count": 4,
      "outputs": []
    },
    {
      "cell_type": "markdown",
      "source": [
        "Analyzing solution provided by Iterative Deepening."
      ],
      "metadata": {
        "id": "UBhX9zHynUpo"
      }
    },
    {
      "cell_type": "code",
      "source": [
        "import time\n",
        "start = time.time()\n",
        "idres = main('id')\n",
        "end = time.time()\n",
        "print('Result: ', idres)\n",
        "print(str.format('Time Taken: {:.2f}s', end-start))"
      ],
      "metadata": {
        "colab": {
          "base_uri": "https://localhost:8080/"
        },
        "id": "MkfT7a1cEHNZ",
        "outputId": "89820c2a-7113-4cf6-ae35-43bde6f5f19b"
      },
      "execution_count": 5,
      "outputs": [
        {
          "output_type": "stream",
          "name": "stdout",
          "text": [
            "d:2, a:0, m:1\n",
            "d:3, a:0, m:1\n",
            "d:4, a:0, m:1\n",
            "d:5, a:0, m:1\n",
            "d:6, a:0, m:1\n",
            "d:7, a:0, m:1\n",
            "d:8, a:0, m:1\n",
            "d:9, a:0, m:1\n",
            "Result:  (0, 9, 1)\n",
            "Time Taken: 0.45s\n"
          ]
        }
      ]
    },
    {
      "cell_type": "markdown",
      "source": [
        "As we can see, there is a possibility of a draw (0), the game would end in 9 moves (5 by first player and 4 by the second), and the optimal first move is 1."
      ],
      "metadata": {
        "id": "PG11G66LnYPK"
      }
    },
    {
      "cell_type": "markdown",
      "source": [
        "Analyzing solution provided by Depth First Search."
      ],
      "metadata": {
        "id": "-s3e7ObdnhWc"
      }
    },
    {
      "cell_type": "code",
      "source": [
        "import time\n",
        "start = time.time()\n",
        "dfsres = main('dfs')\n",
        "end = time.time()\n",
        "print('Result: ', dfsres)\n",
        "print(str.format('Time Taken: {:.2f}s', end-start))"
      ],
      "metadata": {
        "colab": {
          "base_uri": "https://localhost:8080/"
        },
        "id": "xNXBb2AHELIJ",
        "outputId": "e1ac26e5-029d-4aa9-85eb-59806e414071"
      },
      "execution_count": 6,
      "outputs": [
        {
          "output_type": "stream",
          "name": "stdout",
          "text": [
            "Result:  0\n",
            "Time Taken: 0.87s\n"
          ]
        }
      ]
    },
    {
      "cell_type": "markdown",
      "source": [
        "As we can see, this searching technique provides only limited information - that there is a possibility of a draw."
      ],
      "metadata": {
        "id": "QF9Wz7j5nkCq"
      }
    },
    {
      "cell_type": "markdown",
      "source": [
        "Comparison: The time taken is significantly more for DFS in comparison to Iterative Deepening.\n",
        "\n",
        "Some theoretical differences between the two:\n",
        "- Search strategy: Depth-First Search (DFS) is a depth-first search strategy, meaning that it explores as far as possible along each branch before backtracking. Iterative Deepening (ID) is a hybrid search strategy that combines the depth-first search strategy of DFS with the breadth-first search strategy of Breadth-First Search (BFS).\n",
        "\n",
        "- Memory usage: DFS can use a lot of memory, as it stores all visited nodes on the stack. This can lead to stack overflow errors if the search space is too large. ID, on the other hand, only stores the current path being explored, which greatly reduces memory usage.\n",
        "\n",
        "- Completeness: DFS is not guaranteed to find a solution if one exists, especially if the search space is infinite or the solution is at the bottom of a deep branch. ID, however, is complete and will always find a solution if one exists, as it gradually increases the depth of the search until a solution is found.\n",
        "\n",
        "- Time complexity: DFS has a time complexity of O(b^m), where b is the branching factor and m is the maximum depth of the search tree. ID has a time complexity of O(b^d), where d is the depth of the shallowest solution."
      ],
      "metadata": {
        "id": "BkQK-j3mnrJI"
      }
    },
    {
      "cell_type": "markdown",
      "source": [
        "Let's have some fun now - let's break down and analyze how the AI agent is thinking, and not do that :D. In the sense, let's play sub-optimal moves and see how the agent strives to win."
      ],
      "metadata": {
        "id": "NzRXPaEUoppc"
      }
    },
    {
      "cell_type": "code",
      "source": [
        "# initializing the game\n",
        "game = TicTacToe(players=[AI_Player(Negamax(9)), Human_Player()])"
      ],
      "metadata": {
        "id": "LJ7eGtP6ajiQ"
      },
      "execution_count": 7,
      "outputs": []
    },
    {
      "cell_type": "code",
      "source": [
        "# asking the AI agent for its move\n",
        "game.get_move()"
      ],
      "metadata": {
        "colab": {
          "base_uri": "https://localhost:8080/"
        },
        "id": "gLfPof8HjWPZ",
        "outputId": "5dceed8c-65f4-4722-f5e1-86a4b378f829"
      },
      "execution_count": 8,
      "outputs": [
        {
          "output_type": "execute_result",
          "data": {
            "text/plain": [
              "1"
            ]
          },
          "metadata": {},
          "execution_count": 8
        }
      ]
    },
    {
      "cell_type": "code",
      "source": [
        "# haha, playing another move\n",
        "game.play_move(2)\n",
        "game.show()"
      ],
      "metadata": {
        "id": "YgCUxx3JjX-X",
        "colab": {
          "base_uri": "https://localhost:8080/"
        },
        "outputId": "6e6a3769-3a89-4643-df7b-0a16f322eab7"
      },
      "execution_count": 9,
      "outputs": [
        {
          "output_type": "stream",
          "name": "stdout",
          "text": [
            "\n",
            ". O .\n",
            ". . .\n",
            ". . .\n"
          ]
        }
      ]
    },
    {
      "cell_type": "code",
      "source": [
        "# now, let us play what the AI model intended to do\n",
        "game.get_move()"
      ],
      "metadata": {
        "id": "KnzmL9MJjp3Q",
        "outputId": "a8224f76-2f54-4d77-e74c-945d844b353a",
        "colab": {
          "base_uri": "https://localhost:8080/"
        }
      },
      "execution_count": 10,
      "outputs": [
        {
          "name": "stdout",
          "output_type": "stream",
          "text": [
            "\n",
            "Player 2 what do you play ? 1\n"
          ]
        },
        {
          "output_type": "execute_result",
          "data": {
            "text/plain": [
              "1"
            ]
          },
          "metadata": {},
          "execution_count": 10
        }
      ]
    },
    {
      "cell_type": "code",
      "source": [
        "# done\n",
        "game.play_move(1)\n",
        "game.show()"
      ],
      "metadata": {
        "id": "gZUvUidijqoO",
        "colab": {
          "base_uri": "https://localhost:8080/"
        },
        "outputId": "8515a01a-0e62-4649-afc4-4fafbb7e300e"
      },
      "execution_count": 11,
      "outputs": [
        {
          "output_type": "stream",
          "name": "stdout",
          "text": [
            "\n",
            "X O .\n",
            ". . .\n",
            ". . .\n"
          ]
        }
      ]
    },
    {
      "cell_type": "code",
      "source": [
        "# see how it is frantically trying to survive\n",
        "game.get_move()"
      ],
      "metadata": {
        "id": "pTjYop8Yj_aO",
        "colab": {
          "base_uri": "https://localhost:8080/"
        },
        "outputId": "b46f6d19-297a-4fc0-9233-20ed16d92040"
      },
      "execution_count": 12,
      "outputs": [
        {
          "output_type": "execute_result",
          "data": {
            "text/plain": [
              "4"
            ]
          },
          "metadata": {},
          "execution_count": 12
        }
      ]
    },
    {
      "cell_type": "code",
      "source": [
        "# oh no, ai agent, let's give you another move\n",
        "game.play_move(3)\n",
        "game.show()"
      ],
      "metadata": {
        "id": "EvNQVYdMkAgj",
        "colab": {
          "base_uri": "https://localhost:8080/"
        },
        "outputId": "698ec1c0-5a5b-4cb6-c9cb-2fb91e1c11cf"
      },
      "execution_count": 13,
      "outputs": [
        {
          "output_type": "stream",
          "name": "stdout",
          "text": [
            "\n",
            "X O O\n",
            ". . .\n",
            ". . .\n"
          ]
        }
      ]
    },
    {
      "cell_type": "code",
      "source": [
        "# meanwhile we play your move\n",
        "game.get_move()"
      ],
      "metadata": {
        "id": "hQ5fwOuYkChR",
        "colab": {
          "base_uri": "https://localhost:8080/"
        },
        "outputId": "f2550955-80a4-4dc0-e7c9-6419a59819c4"
      },
      "execution_count": 14,
      "outputs": [
        {
          "name": "stdout",
          "output_type": "stream",
          "text": [
            "\n",
            "Player 2 what do you play ? 6\n"
          ]
        },
        {
          "output_type": "execute_result",
          "data": {
            "text/plain": [
              "6"
            ]
          },
          "metadata": {},
          "execution_count": 14
        }
      ]
    },
    {
      "cell_type": "code",
      "source": [
        "# hahaha\n",
        "game.play_move(4)\n",
        "game.show()"
      ],
      "metadata": {
        "id": "M7vUw0GAkIJh",
        "colab": {
          "base_uri": "https://localhost:8080/"
        },
        "outputId": "aeba6416-1b54-442b-f11f-ee19622d7ac6"
      },
      "execution_count": 15,
      "outputs": [
        {
          "output_type": "stream",
          "name": "stdout",
          "text": [
            "\n",
            "X O O\n",
            "X . .\n",
            ". . .\n"
          ]
        }
      ]
    },
    {
      "cell_type": "code",
      "source": [
        "# ah, trying to stop us, eh?\n",
        "game.get_move()"
      ],
      "metadata": {
        "id": "hFGOju72kKdS",
        "colab": {
          "base_uri": "https://localhost:8080/"
        },
        "outputId": "44fa3282-af38-49bf-e9fa-c8a555a0e919"
      },
      "execution_count": 16,
      "outputs": [
        {
          "output_type": "execute_result",
          "data": {
            "text/plain": [
              "7"
            ]
          },
          "metadata": {},
          "execution_count": 16
        }
      ]
    },
    {
      "cell_type": "code",
      "source": [
        "# okay, for once, let's grant your wish\n",
        "game.play_move(7)\n",
        "game.show()"
      ],
      "metadata": {
        "id": "dwuBSQ4vkLJR",
        "colab": {
          "base_uri": "https://localhost:8080/"
        },
        "outputId": "b0e5e363-6152-4fac-9fcf-7f2ea39e4ca7"
      },
      "execution_count": 17,
      "outputs": [
        {
          "output_type": "stream",
          "name": "stdout",
          "text": [
            "\n",
            "X O O\n",
            "X . .\n",
            "O . .\n"
          ]
        }
      ]
    },
    {
      "cell_type": "code",
      "source": [
        "# but we've got other moves too\n",
        "game.get_move()"
      ],
      "metadata": {
        "id": "l0aQPUvxkOKZ",
        "colab": {
          "base_uri": "https://localhost:8080/"
        },
        "outputId": "e0cbebae-1101-4b97-9750-639c077dc636"
      },
      "execution_count": 18,
      "outputs": [
        {
          "name": "stdout",
          "output_type": "stream",
          "text": [
            "\n",
            "Player 2 what do you play ? 7\n",
            "\n",
            "Player 2 what do you play ? 3\n",
            "\n",
            "Player 2 what do you play ? 3\n",
            "\n",
            "Player 2 what do you play ? 5\n"
          ]
        },
        {
          "output_type": "execute_result",
          "data": {
            "text/plain": [
              "5"
            ]
          },
          "metadata": {},
          "execution_count": 18
        }
      ]
    },
    {
      "cell_type": "code",
      "source": [
        "# aha\n",
        "game.play_move(5)\n",
        "game.show()"
      ],
      "metadata": {
        "id": "lPVFF-XEk2Pg",
        "colab": {
          "base_uri": "https://localhost:8080/"
        },
        "outputId": "c0c4047b-ede1-4f2f-aaa5-13b82ea795e1"
      },
      "execution_count": 19,
      "outputs": [
        {
          "output_type": "stream",
          "name": "stdout",
          "text": [
            "\n",
            "X O O\n",
            "X X .\n",
            "O . .\n"
          ]
        }
      ]
    },
    {
      "cell_type": "code",
      "source": [
        "# okay, your turn\n",
        "game.get_move()"
      ],
      "metadata": {
        "id": "eAGvVzd_k50S",
        "colab": {
          "base_uri": "https://localhost:8080/"
        },
        "outputId": "fa0789a4-fc56-4fd4-c03b-ee72d3e432a7"
      },
      "execution_count": 20,
      "outputs": [
        {
          "output_type": "execute_result",
          "data": {
            "text/plain": [
              "6"
            ]
          },
          "metadata": {},
          "execution_count": 20
        }
      ]
    },
    {
      "cell_type": "code",
      "source": [
        "# i don't see how this is going to stop me from winning, so okay your wish\n",
        "game.play_move(6)\n",
        "game.show()"
      ],
      "metadata": {
        "id": "EY4QhXZ1lpof",
        "colab": {
          "base_uri": "https://localhost:8080/"
        },
        "outputId": "dd0e34e6-c7dc-4ca7-ca36-863e3d92c5a7"
      },
      "execution_count": 21,
      "outputs": [
        {
          "output_type": "stream",
          "name": "stdout",
          "text": [
            "\n",
            "X O O\n",
            "X X O\n",
            "O . .\n"
          ]
        }
      ]
    },
    {
      "cell_type": "code",
      "source": [
        "# beating you at your own game\n",
        "game.get_move()"
      ],
      "metadata": {
        "id": "aaTngCsTlsk7",
        "colab": {
          "base_uri": "https://localhost:8080/"
        },
        "outputId": "6c4d305d-f412-4d99-94a0-3f721ce9f99b"
      },
      "execution_count": 22,
      "outputs": [
        {
          "name": "stdout",
          "output_type": "stream",
          "text": [
            "\n",
            "Player 2 what do you play ? 4\n",
            "\n",
            "Player 2 what do you play ? 1\n",
            "\n",
            "Player 2 what do you play ? 2\n",
            "\n",
            "Player 2 what do you play ? 4\n",
            "\n",
            "Player 2 what do you play ? 5\n",
            "\n",
            "Player 2 what do you play ? 6\n",
            "\n",
            "Player 2 what do you play ? 8\n"
          ]
        },
        {
          "output_type": "execute_result",
          "data": {
            "text/plain": [
              "8"
            ]
          },
          "metadata": {},
          "execution_count": 22
        }
      ]
    },
    {
      "cell_type": "code",
      "source": [
        "# ai can never take over humans\n",
        "game.play_move(9)\n",
        "game.show()"
      ],
      "metadata": {
        "id": "xg0wXg5El1sf",
        "colab": {
          "base_uri": "https://localhost:8080/"
        },
        "outputId": "f07b5956-86cf-4718-ebd2-7358f8749441"
      },
      "execution_count": 23,
      "outputs": [
        {
          "output_type": "stream",
          "name": "stdout",
          "text": [
            "\n",
            "X O O\n",
            "X X O\n",
            "O . X\n"
          ]
        }
      ]
    }
  ]
}